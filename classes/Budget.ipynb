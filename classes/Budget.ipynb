{
 "cells": [
  {
   "cell_type": "code",
   "execution_count": 10,
   "metadata": {},
   "outputs": [
    {
     "name": "stdout",
     "output_type": "stream",
     "text": [
      "<class 'pandas.core.frame.DataFrame'>\n",
      "RangeIndex: 10 entries, 0 to 9\n",
      "Data columns (total 7 columns):\n",
      " #   Column        Non-Null Count  Dtype \n",
      "---  ------        --------------  ----- \n",
      " 0   date          10 non-null     object\n",
      " 1   credit        3 non-null      object\n",
      " 2   debit         7 non-null      object\n",
      " 3   category      10 non-null     object\n",
      " 4   notes         10 non-null     object\n",
      " 5   account_type  10 non-null     object\n",
      " 6   account_no    10 non-null     int64 \n",
      "dtypes: int64(1), object(6)\n",
      "memory usage: 688.0+ bytes\n"
     ]
    }
   ],
   "source": [
    "import csv\n",
    "import pandas as pd\n",
    "\n",
    "filename = \"c:\\\\Users\\\\aaron\\\\OneDrive\\\\Github\\\\practice\\\\classes\\\\transactions.csv\"\n",
    "\n",
    "transactionsDF = pd.read_csv(filename)\n",
    "\n",
    "transactionsDF.info()"
   ]
  },
  {
   "cell_type": "code",
   "execution_count": 9,
   "metadata": {},
   "outputs": [
    {
     "name": "stdout",
     "output_type": "stream",
     "text": [
      "Date: 12/1/2020 Credit:  Debit: $100.00 Cat: food Notes: groceries Type: checking\n",
      "Date: 12/4/2020 Credit:  Debit: $55.00 Cat: tech Notes: charge cable for garmin Type: checking\n",
      "Date: 12/5/2020 Credit:  Debit: $11.00 Cat: food Notes: snacks Type: checking\n",
      "Date: 12/7/2020 Credit:  Debit: $200.00 Cat: entertainment Notes: etc Type: checking\n",
      "Date: 12/7/2020 Credit:  Debit: $110.00 Cat: food Notes: ordered takeout Type: checking\n",
      "Date: 12/7/2020 Credit: $500.00 Debit:  Cat: deposit Notes: from 7913 Type: checking\n",
      "Date: 12/7/2020 Credit:  Debit: $500.00 Cat: transfer Notes: to 7149 Type: checking\n",
      "Date: 12/8/2020 Credit:  Debit: $100.00 Cat: savings Notes: save Type: checking\n",
      "Date: 12/8/2020 Credit: $100.00 Debit:  Cat: savings Notes: save Type: savings\n",
      "Date: 12/2/2020 Credit: $20000.00 Debit:  Cat: salary Notes: paycheck Type: checking\n"
     ]
    }
   ],
   "source": [
    "import csv\n",
    "import pandas as pd\n",
    "\n",
    "filename = \"c:\\\\Users\\\\aaron\\\\OneDrive\\\\Github\\\\practice\\\\classes\\\\transactions.csv\"\n",
    "\n",
    "with open(filename, newline='') as csvfile:\n",
    "    reader = csv.DictReader(csvfile)\n",
    "    for row in reader:\n",
    "        print(f\"Date: {row['date']} Credit: {row['credit']} Debit: {row['debit']} Cat: {row['category']} Notes: {row['notes']} Type: {row['account_type']}\")"
   ]
  },
  {
   "cell_type": "code",
   "execution_count": 11,
   "metadata": {},
   "outputs": [
    {
     "ename": "SyntaxError",
     "evalue": "invalid syntax (<ipython-input-11-f0cd67b59c8c>, line 26)",
     "output_type": "error",
     "traceback": [
      "\u001b[1;36m  File \u001b[1;32m\"<ipython-input-11-f0cd67b59c8c>\"\u001b[1;36m, line \u001b[1;32m26\u001b[0m\n\u001b[1;33m    row['first_name'], row['last_name'])\u001b[0m\n\u001b[1;37m                                       ^\u001b[0m\n\u001b[1;31mSyntaxError\u001b[0m\u001b[1;31m:\u001b[0m invalid syntax\n"
     ]
    }
   ],
   "source": [
    "### Create an Account class that can instantiate objects based on different accounts for a person. Checking, savings...\n",
    "import csv\n",
    "import pandas as pd\n",
    "\n",
    "\n",
    "class Accounts:\n",
    "\n",
    "    filename = \"c:\\\\Users\\\\aaron\\\\OneDrive\\\\Github\\\\practice\\\\classes\\\\transactions.csv\"\n",
    "    \n",
    "    def __init__(self):\n",
    "        self.owner = owner\n",
    "        self.date = date\n",
    "        self.balance = balance\n",
    "        self.credit = credit\n",
    "        self.debit = debit\n",
    "        self.category = category\n",
    "        self.note = note        \n",
    "        self.account_type = account_type\n",
    "        self.transactionsDF = pd.read_csv(filename)\n",
    "    \n",
    "    def read_transactions(self,filename):\n",
    "        \n",
    "        with open(filename, newline='') as csvfile:\n",
    "            reader = csv.DictReader(csvfile)\n",
    "            for row in reader:\n",
    "               # row['first_name'], row['last_name'])\n",
    "        \n",
    "    def transact(self,account_type,date,debit,credit,category,note):\n",
    "        \n",
    "        transaction = [account_type,date,debit,credit,category,note]\n",
    "        self.balance += self.credit\n",
    "        balance -= self.debit\n",
    "        \n",
    "        \n",
    "    def deposit_funds(self,category,funds):\n",
    "        self.expense_budget[category] += funds\n",
    "        print(f\"Category Total: {self.expense_budget[category]}\")\n",
    "        \n",
    "    def withdraw_funds(self,category,funds):\n",
    "        self.expense_budget[category] -= funds\n",
    "        print(f\"Category Total: {self.expense_budget[category]}\")\n",
    "    "
   ]
  },
  {
   "cell_type": "markdown",
   "metadata": {},
   "source": [
    "## Utilizing pandas dataframe for account transations"
   ]
  },
  {
   "cell_type": "code",
   "execution_count": 19,
   "metadata": {},
   "outputs": [],
   "source": [
    "### Create an Account class that can instantiate objects based on different accounts for a person. Checking, savings...\n",
    "### Transactions.csv 1st row, column names\n",
    "### date,credit,debit,category,notes,account_type,account_no\n",
    "\n",
    "import csv\n",
    "import pandas as pd\n",
    "\n",
    "\n",
    "class Accounts:\n",
    "\n",
    "    filename = \"c:\\\\Users\\\\aaron\\\\OneDrive\\\\Github\\\\practice\\\\classes\\\\transactions.csv\"\n",
    "    \n",
    "    def __init__(self, owner):\n",
    "        self.owner = owner\n",
    "   \n",
    "    \n",
    "    def get_balance(self, account_no):\n",
    "         \n",
    "        self.transactionsDF = pd.read_csv(filename)\n",
    "        bal_by_accountno = self.transactionsDF.groupby(\"account_no\")[['debit','credit']].sum()\n",
    "        #self.credit = self.transactionsDF['credit'].sum()\n",
    "        #self.debit = self.transactionsDF['debit'].sum()\n",
    "        #self.balance\n",
    "        print(bal_by_accountno)\n",
    "    \n",
    "    #def transact(self,account_type,date,debit,credit,category,note):\n",
    "        \n",
    "        #transaction = [account_type,date,debit,credit,category,note]\n",
    "        #self.balance += self.credit\n",
    "        #balance -= self.debit\n",
    "        \n",
    "        \n",
    "    def deposit_funds(self,category,funds):\n",
    "        self.expense_budget[category] += funds\n",
    "        print(f\"Category Total: {self.expense_budget[category]}\")\n",
    "        \n",
    "    def withdraw_funds(self,category,funds):\n",
    "        self.expense_budget[category] -= funds\n",
    "        print(f\"Category Total: {self.expense_budget[category]}\")\n",
    "    "
   ]
  },
  {
   "cell_type": "code",
   "execution_count": 21,
   "metadata": {},
   "outputs": [],
   "source": [
    "aaronacct = Accounts('aaron')"
   ]
  },
  {
   "cell_type": "code",
   "execution_count": 94,
   "metadata": {},
   "outputs": [],
   "source": [
    "## Create a Budget class that can instantiate objects based on different budget categories like food, clothing, \n",
    "## and entertainment. These objects should allow for depositing and withdrawing funds from each category, as well \n",
    "## computing category balances and transferring balance amounts between categories”\n",
    "\n",
    "class Budget:\n",
    "\n",
    "    expenses = {'food':300.00,\n",
    "                  'clothing':75.00,\n",
    "                  'entertainment':125.00,\n",
    "                  'health':100.00,\n",
    "                  'housing':500.00,\n",
    "                  'auto':250.00}\n",
    "\n",
    "    # Instantiate with 0 balance\n",
    "    def __init__(self, balance=0, category='food',expense_budget=expenses):\n",
    "        \n",
    "        self.category = category\n",
    "        self.expense_budget = expense_budget\n",
    "        #self.limit = limit\n",
    "        \n",
    "    def set_category_limit(self,category,limit):\n",
    "        self.expense_budget[category] = limit\n",
    "\n",
    "    def see_category_proportions(self):\n",
    "        total = 0\n",
    "        for cat in self.expense_budget:\n",
    "            total += self.expense_budget[cat]\n",
    "        self.balance = total\n",
    "        \n",
    "        print(\"Expense Budget Percentages\\n\")\n",
    "        print(f\"Total Expenses: {self.balance}\")\n",
    "        for cat in self.expense_budget:\n",
    "            cat_prop = self.expense_budget[cat] / self.balance\n",
    "            print(\"%s: %5.2f\"%(cat,cat_prop))\n",
    "    \n",
    "    "
   ]
  },
  {
   "cell_type": "code",
   "execution_count": 95,
   "metadata": {},
   "outputs": [],
   "source": [
    "aaron = Budget()"
   ]
  },
  {
   "cell_type": "code",
   "execution_count": 96,
   "metadata": {},
   "outputs": [
    {
     "data": {
      "text/plain": [
       "{'food': 300.0,\n",
       " 'clothing': 75.0,\n",
       " 'entertainment': 125.0,\n",
       " 'health': 100.0,\n",
       " 'housing': 500.0,\n",
       " 'auto': 250.0}"
      ]
     },
     "execution_count": 96,
     "metadata": {},
     "output_type": "execute_result"
    }
   ],
   "source": [
    "aaron.expense_budget"
   ]
  },
  {
   "cell_type": "code",
   "execution_count": 47,
   "metadata": {},
   "outputs": [],
   "source": [
    "aaron.set_category_limit('clothing',100.00)"
   ]
  },
  {
   "cell_type": "code",
   "execution_count": 48,
   "metadata": {},
   "outputs": [],
   "source": [
    "aaron.set_category_limit('entertainment',200.00)"
   ]
  },
  {
   "cell_type": "code",
   "execution_count": 49,
   "metadata": {},
   "outputs": [],
   "source": [
    "aaron.set_category_limit('auto',300.00)"
   ]
  },
  {
   "cell_type": "code",
   "execution_count": 50,
   "metadata": {},
   "outputs": [],
   "source": [
    "aaron.set_category_limit('health',50.00)"
   ]
  },
  {
   "cell_type": "code",
   "execution_count": 85,
   "metadata": {},
   "outputs": [
    {
     "name": "stdout",
     "output_type": "stream",
     "text": [
      "Expense Budget Percentages\n",
      "\n",
      "Total Expenses: 1350.0\n",
      "food:  0.22\n",
      "clothing:  0.06\n",
      "entertainment:  0.09\n",
      "health:  0.07\n",
      "housing:  0.37\n",
      "auto:  0.19\n"
     ]
    }
   ],
   "source": [
    "aaron.see_category_proportions()"
   ]
  },
  {
   "cell_type": "code",
   "execution_count": 97,
   "metadata": {},
   "outputs": [
    {
     "name": "stdout",
     "output_type": "stream",
     "text": [
      "Category Total: 500.0\n"
     ]
    }
   ],
   "source": [
    "aaron.deposit_funds('food',200.00)"
   ]
  },
  {
   "cell_type": "code",
   "execution_count": 98,
   "metadata": {},
   "outputs": [
    {
     "name": "stdout",
     "output_type": "stream",
     "text": [
      "Category Total: 50.0\n"
     ]
    }
   ],
   "source": [
    "aaron.withdraw_funds('clothing',25.0)"
   ]
  },
  {
   "cell_type": "code",
   "execution_count": null,
   "metadata": {},
   "outputs": [],
   "source": []
  },
  {
   "cell_type": "code",
   "execution_count": null,
   "metadata": {},
   "outputs": [],
   "source": []
  },
  {
   "cell_type": "code",
   "execution_count": 40,
   "metadata": {},
   "outputs": [
    {
     "data": {
      "text/plain": [
       "{'food': 150.0,\n",
       " 'clothing': 0,\n",
       " 'entertainment': 0,\n",
       " 'health': 0,\n",
       " 'housing': 0,\n",
       " 'auto': 0,\n",
       " 'income': 0}"
      ]
     },
     "execution_count": 40,
     "metadata": {},
     "output_type": "execute_result"
    }
   ],
   "source": [
    "ll"
   ]
  },
  {
   "cell_type": "code",
   "execution_count": 10,
   "metadata": {},
   "outputs": [],
   "source": [
    "dict = {'food':100,'clothes':50}"
   ]
  },
  {
   "cell_type": "code",
   "execution_count": 11,
   "metadata": {},
   "outputs": [
    {
     "data": {
      "text/plain": [
       "{'food': 100, 'clothes': 50}"
      ]
     },
     "execution_count": 11,
     "metadata": {},
     "output_type": "execute_result"
    }
   ],
   "source": [
    "dict"
   ]
  },
  {
   "cell_type": "code",
   "execution_count": 12,
   "metadata": {},
   "outputs": [
    {
     "ename": "SyntaxError",
     "evalue": "invalid syntax (<ipython-input-12-642670496a14>, line 1)",
     "output_type": "error",
     "traceback": [
      "\u001b[1;36m  File \u001b[1;32m\"<ipython-input-12-642670496a14>\"\u001b[1;36m, line \u001b[1;32m1\u001b[0m\n\u001b[1;33m    dict.append('housing':1000)\u001b[0m\n\u001b[1;37m                         ^\u001b[0m\n\u001b[1;31mSyntaxError\u001b[0m\u001b[1;31m:\u001b[0m invalid syntax\n"
     ]
    }
   ],
   "source": [
    "dict.append('housing':1000)"
   ]
  },
  {
   "cell_type": "code",
   "execution_count": 13,
   "metadata": {},
   "outputs": [],
   "source": [
    "dict['housing'] = 1000"
   ]
  },
  {
   "cell_type": "code",
   "execution_count": 14,
   "metadata": {},
   "outputs": [
    {
     "data": {
      "text/plain": [
       "{'food': 100, 'clothes': 50, 'housing': 1000}"
      ]
     },
     "execution_count": 14,
     "metadata": {},
     "output_type": "execute_result"
    }
   ],
   "source": [
    "dict"
   ]
  },
  {
   "cell_type": "code",
   "execution_count": null,
   "metadata": {},
   "outputs": [],
   "source": []
  },
  {
   "cell_type": "code",
   "execution_count": 37,
   "metadata": {},
   "outputs": [],
   "source": [
    "ll = {'food': 150.0,\n",
    " 'clothing': 0,\n",
    " 'entertainment': 0,\n",
    " 'health': 0,\n",
    " 'housing': 0,\n",
    " 'auto': 0,\n",
    " 'income': 0}"
   ]
  },
  {
   "cell_type": "code",
   "execution_count": 41,
   "metadata": {},
   "outputs": [
    {
     "name": "stdout",
     "output_type": "stream",
     "text": [
      "150.0\n"
     ]
    }
   ],
   "source": [
    "total = 0\n",
    "for item in ll:\n",
    "    total += ll[item]\n",
    "\n",
    "print(total)"
   ]
  }
 ],
 "metadata": {
  "kernelspec": {
   "display_name": "Python 3",
   "language": "python",
   "name": "python3"
  },
  "language_info": {
   "codemirror_mode": {
    "name": "ipython",
    "version": 3
   },
   "file_extension": ".py",
   "mimetype": "text/x-python",
   "name": "python",
   "nbconvert_exporter": "python",
   "pygments_lexer": "ipython3",
   "version": "3.6.10"
  }
 },
 "nbformat": 4,
 "nbformat_minor": 4
}
