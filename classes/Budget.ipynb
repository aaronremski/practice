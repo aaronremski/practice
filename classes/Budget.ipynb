{
 "cells": [
  {
   "cell_type": "code",
   "execution_count": 10,
   "metadata": {},
   "outputs": [
    {
     "name": "stdout",
     "output_type": "stream",
     "text": [
      "<class 'pandas.core.frame.DataFrame'>\n",
      "RangeIndex: 10 entries, 0 to 9\n",
      "Data columns (total 7 columns):\n",
      " #   Column        Non-Null Count  Dtype \n",
      "---  ------        --------------  ----- \n",
      " 0   date          10 non-null     object\n",
      " 1   credit        3 non-null      object\n",
      " 2   debit         7 non-null      object\n",
      " 3   category      10 non-null     object\n",
      " 4   notes         10 non-null     object\n",
      " 5   account_type  10 non-null     object\n",
      " 6   account_no    10 non-null     int64 \n",
      "dtypes: int64(1), object(6)\n",
      "memory usage: 688.0+ bytes\n"
     ]
    }
   ],
   "source": [
    "import csv\n",
    "import pandas as pd\n",
    "\n",
    "filename = \"c:\\\\Users\\\\aaron\\\\OneDrive\\\\Github\\\\2018_Transaction_History.csv\"\n",
    "\n",
    "transactionsDF = pd.read_csv(filename)\n",
    "\n",
    "transactionsDF.info()"
   ]
  },
  {
   "cell_type": "markdown",
   "metadata": {},
   "source": [
    "## Utilizing pandas dataframe for account transations"
   ]
  },
  {
   "cell_type": "code",
   "execution_count": null,
   "metadata": {},
   "outputs": [],
   "source": [
    "class Ledger:\n",
    "    '''\n",
    "    Accounting Transaction object class. Used to manage transaction specifics such as\n",
    "    category, categories used, category totals, etc., \n",
    "    '''\n",
    "    \n",
    "    def __init__(self, file_path):\n",
    "    \n",
    "        self.file_path = file_path\n",
    "        self.transactionsDF = pd.read_csv(file_path)\n",
    "    \n",
    "    def categorize (self):\n",
    "    \n",
    "        cat_list = list(input(\"Enter comma seperated list of categories used:\"))\n",
    "        \n",
    "        \n",
    "    def see_vendors (self):\n",
    "        \n",
    "        transactionsDF"
   ]
  },
  {
   "cell_type": "code",
   "execution_count": 104,
   "metadata": {},
   "outputs": [],
   "source": [
    "### Create an Account class that can instantiate objects based on different accounts for a person. Checking, savings...\n",
    "### Transactions.csv 1st row, column names\n",
    "### date,credit,debit,category,notes,account_no\n",
    "\n",
    "\n",
    "class Accounts:\n",
    "\n",
    "    filename = \"c:\\\\Users\\\\aaron\\\\OneDrive\\\\Github\\\\practice\\\\classes\\\\transactions.csv\"\n",
    "    \n",
    "    def __init__(self, owner):\n",
    "        self.owner = owner\n",
    "        self.transactionsDF = pd.read_csv(filename)\n",
    "        \n",
    "    def get_accts(self):\n",
    "        return self.transactionsDF['account_no'].unique()\n",
    "    \n",
    "    def get_balance(self, account_no):\n",
    "        ### get balance for account no. sum of CREDITS - sum of DEBITS\n",
    "        \n",
    "        \n",
    "        self.transactionsDF['date'] = pd.to_datetime(self.transactionsDF['date'])\n",
    "        self.bal_by_accountno = self.transactionsDF.groupby(\"account_no\")[['debit','credit']].sum()\n",
    "        \n",
    "        return self.bal_by_accountno.loc[account_no, 'credit'] - self.bal_by_accountno.loc[account_no, 'debit']\n",
    "        \n",
    "    def transaction(self, account_no):\n",
    "        ### method for adding transactions to accounts. \n",
    "        trans_date = input(\"Enter transaction date: \")\n",
    "        trans_credit = input(\"Enter transaction credit: \")\n",
    "        trans_debit = input(\"Enter transaction debit: \")\n",
    "        trans_category = input(\"Enter transaction category: \")\n",
    "        trans_notes = input(\"Enter transaction notes: \")\n",
    "        \n",
    "        ### how did I find myself here?\n",
    "        ### ↓↓↓\n",
    "        trans_dict = {\"date\":trans_date,\"credit\":trans_credit,\"debit\":trans_debit,\"category\":trans_category,\n",
    "                      \"notes\":trans_notes,\"account_no\":account_no}\n",
    "        \n",
    "        self.transactionsDF.append(trans_dict,ignore_index=True)\n",
    "\n",
    "    def search_for(self):\n",
    "        ### return a dataframe search result using the filterby variable\n",
    "        ### e.g. return all 01/01/21 transactions\n",
    "        \n",
    "        search_category = input(\"[date,credit,debit,category,notes,account_no]\\nSearch which column: \")\n",
    "        search_item = input(\"Enter what you're searching for: \")\n",
    "        search_phrase = (search_category + '==' + \"'\" + search_item + \"'\")\n",
    "        print(f\"Search phrase: {search_phrase}\\n\\n\")\n",
    "        \n",
    "        print(self.transactionsDF.query(search_phrase, inplace=True))\n",
    "        \n",
    "    def run_budget(self):\n",
    "        '''\n",
    " def deposit_funds(self,category,funds):\n",
    "        self.expense_budget[category] += funds\n",
    "        print(f\"Category Total: {self.expense_budget[category]}\")\n",
    "        \n",
    "    def withdraw_funds(self,category,funds):\n",
    "        self.expense_budget[category] -= funds\n",
    "        print(f\"Category Total: {self.expense_budget[category]}\")\n",
    "        '''\n"
   ]
  },
  {
   "cell_type": "code",
   "execution_count": 137,
   "metadata": {},
   "outputs": [],
   "source": [
    "## Create a Budget class that can instantiate objects based on different budget categories like food, clothing, \n",
    "## and entertainment. These objects should allow for depositing and withdrawing funds from each category, as well \n",
    "## computing category balances and transferring balance amounts between categories”\n",
    "## Transaction columns: date,credit,debit,category,notes,account_no\n",
    "## Expense Categories: food, tech, housing, entertain, savings, clothing, \n",
    "\n",
    "class Budget:\n",
    "    '''\n",
    "    Budget class. Used to see where one's monthly spending falls within their budget requirements.\n",
    "    '''\n",
    "        \n",
    "    # Instantiate\n",
    "    def __init__(self, transDF):\n",
    "        \n",
    "        self.transDF = transDF\n",
    "        self.cols = self.transDF.columns\n",
    "        self.expense_budget = {\"food\":400,\n",
    "                               \"tech\":150,\n",
    "                               \"housing\":1200,\n",
    "                               \"entertain\":275,\n",
    "                               \"savings\":200,\n",
    "                               \"clothing\":75}\n",
    "    \n",
    "        \n",
    "        #self.limit = limit\n",
    "        \n",
    "    def set_limit_for(self,cat,limit):\n",
    "        ### method for setting budget limit for categorys, see self.cols\n",
    "        self.expense_budget[cat] = limit\n",
    "        print(f\"Expense categories with limits:\")\n",
    "        \n",
    "        for cats in self.expense_budget:\n",
    "            print(f\"{cats}: {self.expense_budget[cats]}\")\n",
    "\n",
    "    def see_limit_percent(self):\n",
    "        total = 0\n",
    "        for cat in self.expense_budget:\n",
    "            total += self.expense_budget[cat]\n",
    "        self.balance = total\n",
    "        \n",
    "        print(\"Expense Budget Percentages.\\n(Remember, this is showing what the upper limit is. Not the actual expenses)\\n\")\n",
    "        print(f\"Total Max Expenses: {self.balance}\")\n",
    "        \n",
    "        for cat in self.expense_budget:\n",
    "            cat_prop = self.expense_budget[cat] / self.balance\n",
    "            print(\"%s:\\t\\t\\t%5.2f\"%(cat,cat_prop))\n",
    "    \n",
    "    "
   ]
  },
  {
   "cell_type": "code",
   "execution_count": null,
   "metadata": {},
   "outputs": [],
   "source": [
    "def budget_module():\n",
    "    \n",
    "    print(\"|ΞΞΞΞΞΞΞΞΞΞΞΞΞΞΞΞΞΞΞΞΞΞΞΞΞΞΞΞΞΞΞΞΞΞΞΞΞΞΞΞΞΞΞΞΞΞΞΞΞ|\")\n",
    "    print(\"|               Budget Module                     |\")\n",
    "    print(\"|ΞΞΞΞΞΞΞΞΞΞΞΞΞΞΞΞΞΞΞΞΞΞΞΞΞΞΞΞΞΞΞΞΞΞΞΞΞΞΞΞΞΞΞΞΞΞΞΞΞ|\")\n",
    " "
   ]
  },
  {
   "cell_type": "code",
   "execution_count": null,
   "metadata": {},
   "outputs": [],
   "source": [
    "def menu():\n",
    "    \n",
    "    print(\"|ΞΞΞΞΞΞΞΞΞΞΞΞΞΞΞΞΞΞΞΞΞΞΞΞΞΞΞΞΞΞΞΞΞΞΞΞΞΞΞΞΞΞΞΞΞΞΞΞΞ|\")\n",
    "    print(\"|        [S]pending & [B]udgeting [P]rogram       |\")\n",
    "    print(\"|                  [S] [B] [P]                    |\")\n",
    "    print(\"|                    ver 0.1                      |\")\n",
    "    print(\"|ΞΞΞΞΞΞΞΞΞΞΞΞΞΞΞΞΞΞΞΞΞΞΞΞΞΞΞΞΞΞΞΞΞΞΞΞΞΞΞΞΞΞΞΞΞΞΞΞΞ|\")\n",
    "    \n",
    "    print()\n",
    "\n",
    "    choice = input(\"\"\"\n",
    "                      A: Process Spending\n",
    "                      B: Budget Module\n",
    "                      Q: Quit\n",
    "\n",
    "                      Please enter your choice: \"\"\")\n",
    "\n",
    "    if choice == \"A\" or choice ==\"a\":\n",
    "        pass\n",
    "    elif choice == \"B\" or choice ==\"b\":\n",
    "        pass\n",
    "    elif choice==\"Q\" or choice==\"q\":\n",
    "        sys.exit\n",
    "    else:\n",
    "        print(\"You must only select either A or B\")\n",
    "        print(\"Please try again\")\n",
    "        menu()"
   ]
  },
  {
   "cell_type": "code",
   "execution_count": 146,
   "metadata": {},
   "outputs": [
    {
     "name": "stdout",
     "output_type": "stream",
     "text": [
      "**************************\n",
      "\n",
      "\n",
      "                      A: Process Ledger\n",
      "                      B: Budget Module\n",
      "                      Q: Quit\n",
      "\n",
      "                      Please enter your choice: q\n"
     ]
    }
   ],
   "source": [
    "import csv\n",
    "import sys\n",
    "import string #for use in the secure password and other parts of the program\n",
    "\n",
    "def main():\n",
    "    menu()\n",
    "\n",
    "def menu():\n",
    "    \n",
    "    print(\"|ΞΞΞΞΞΞΞΞΞΞΞΞΞΞΞΞΞΞΞΞΞΞΞΞΞΞΞΞΞΞΞΞΞΞΞΞΞΞΞΞΞΞΞΞΞΞΞΞΞ|\")\n",
    "    print(\"|        [S]pending & [B]udgeting [P]rogram       |\")\n",
    "    print(\"|                  [S] [B] [P]                    |\")\n",
    "    print(\"|                    ver 0.1                      |\")\n",
    "    print(\"|ΞΞΞΞΞΞΞΞΞΞΞΞΞΞΞΞΞΞΞΞΞΞΞΞΞΞΞΞΞΞΞΞΞΞΞΞΞΞΞΞΞΞΞΞΞΞΞΞΞ|\")\n",
    "    \n",
    "    print()\n",
    "\n",
    "    choice = input(\"\"\"\n",
    "                      A: Process Spending\n",
    "                      B: Budget Module\n",
    "                      Q: Quit\n",
    "\n",
    "                      Please enter your choice: \"\"\")\n",
    "\n",
    "    if choice == \"A\" or choice ==\"a\":\n",
    "        pass\n",
    "    elif choice == \"B\" or choice ==\"b\":\n",
    "        pass\n",
    "    elif choice==\"Q\" or choice==\"q\":\n",
    "        sys.exit\n",
    "    else:\n",
    "        print(\"You must only select either A or B\")\n",
    "        print(\"Please try again\")\n",
    "        menu()\n",
    "\n",
    "#the program is initiated, so to speak, here\n",
    "main()\n"
   ]
  },
  {
   "cell_type": "code",
   "execution_count": 145,
   "metadata": {},
   "outputs": [
    {
     "data": {
      "text/plain": [
       "'Q'"
      ]
     },
     "execution_count": 145,
     "metadata": {},
     "output_type": "execute_result"
    }
   ],
   "source": [
    "option"
   ]
  },
  {
   "cell_type": "code",
   "execution_count": 138,
   "metadata": {},
   "outputs": [],
   "source": [
    "# Note: \"myacct\" is the representation of the object outside of the class and \"self\" is the representation of the object inside the class.\n",
    "\n",
    "myacct = Accounts('Aaron')\n",
    "mybudget = Budget(transactionsDF)"
   ]
  },
  {
   "cell_type": "code",
   "execution_count": 139,
   "metadata": {},
   "outputs": [
    {
     "data": {
      "text/plain": [
       "{'food': 400,\n",
       " 'tech': 150,\n",
       " 'housing': 1200,\n",
       " 'entertain': 275,\n",
       " 'savings': 200,\n",
       " 'clothing': 75}"
      ]
     },
     "execution_count": 139,
     "metadata": {},
     "output_type": "execute_result"
    }
   ],
   "source": [
    "mybudget.expense_budget"
   ]
  },
  {
   "cell_type": "code",
   "execution_count": 140,
   "metadata": {},
   "outputs": [
    {
     "name": "stdout",
     "output_type": "stream",
     "text": [
      "Expense categories with limits:\n",
      "food:400\n",
      "tech:150\n",
      "housing:1200\n",
      "entertain:210\n",
      "savings:200\n",
      "clothing:75\n"
     ]
    }
   ],
   "source": [
    "mybudget.set_limit_for('entertain',210)"
   ]
  },
  {
   "cell_type": "code",
   "execution_count": 141,
   "metadata": {},
   "outputs": [
    {
     "data": {
      "text/plain": [
       "{'food': 400,\n",
       " 'tech': 150,\n",
       " 'housing': 1200,\n",
       " 'entertain': 210,\n",
       " 'savings': 200,\n",
       " 'clothing': 75}"
      ]
     },
     "execution_count": 141,
     "metadata": {},
     "output_type": "execute_result"
    }
   ],
   "source": [
    "mybudget.expense_budget"
   ]
  },
  {
   "cell_type": "code",
   "execution_count": 127,
   "metadata": {},
   "outputs": [
    {
     "name": "stdout",
     "output_type": "stream",
     "text": [
      "Expense Budget Percentages. Remember, this is showing what the upper limit is. Not the actual expenses\n",
      "\n",
      "Total Max Expenses: 2235\n",
      "food:  0.18\n",
      "tech:  0.07\n",
      "housing:  0.54\n",
      "entertain:  0.09\n",
      "savings:  0.09\n",
      "clothing:  0.03\n"
     ]
    }
   ],
   "source": [
    "mybudget.see_limit_percent()"
   ]
  },
  {
   "cell_type": "code",
   "execution_count": 92,
   "metadata": {},
   "outputs": [
    {
     "data": {
      "text/plain": [
       "array([7149, 7913,   67], dtype=int64)"
      ]
     },
     "execution_count": 92,
     "metadata": {},
     "output_type": "execute_result"
    }
   ],
   "source": [
    "transactionsDF['account_no'].unique()"
   ]
  },
  {
   "cell_type": "code",
   "execution_count": 106,
   "metadata": {},
   "outputs": [],
   "source": [
    "aaronacct = Accounts('aaron')"
   ]
  },
  {
   "cell_type": "code",
   "execution_count": 107,
   "metadata": {},
   "outputs": [
    {
     "data": {
      "text/plain": [
       "array([7149, 7913, 2167], dtype=int64)"
      ]
     },
     "execution_count": 107,
     "metadata": {},
     "output_type": "execute_result"
    }
   ],
   "source": [
    "aaronacct.get_accts()"
   ]
  },
  {
   "cell_type": "code",
   "execution_count": 95,
   "metadata": {},
   "outputs": [
    {
     "data": {
      "text/plain": [
       "19500.0"
      ]
     },
     "execution_count": 95,
     "metadata": {},
     "output_type": "execute_result"
    }
   ],
   "source": [
    "aaronacct.get_balance(7913)"
   ]
  },
  {
   "cell_type": "code",
   "execution_count": 100,
   "metadata": {},
   "outputs": [
    {
     "ename": "SyntaxError",
     "evalue": "invalid syntax (<unknown>, line 1)",
     "output_type": "error",
     "traceback": [
      "Traceback \u001b[1;36m(most recent call last)\u001b[0m:\n",
      "  File \u001b[0;32m\"C:\\Users\\aaron\\anaconda3\\envs\\udacity\\lib\\site-packages\\IPython\\core\\interactiveshell.py\"\u001b[0m, line \u001b[0;32m3343\u001b[0m, in \u001b[0;35mrun_code\u001b[0m\n    exec(code_obj, self.user_global_ns, self.user_ns)\n",
      "  File \u001b[0;32m\"<ipython-input-100-f179a664c41f>\"\u001b[0m, line \u001b[0;32m1\u001b[0m, in \u001b[0;35m<module>\u001b[0m\n    transactionsDF.query(\"date == 12/07/2020\")\n",
      "  File \u001b[0;32m\"C:\\Users\\aaron\\anaconda3\\envs\\udacity\\lib\\site-packages\\pandas\\core\\frame.py\"\u001b[0m, line \u001b[0;32m3231\u001b[0m, in \u001b[0;35mquery\u001b[0m\n    res = self.eval(expr, **kwargs)\n",
      "  File \u001b[0;32m\"C:\\Users\\aaron\\anaconda3\\envs\\udacity\\lib\\site-packages\\pandas\\core\\frame.py\"\u001b[0m, line \u001b[0;32m3346\u001b[0m, in \u001b[0;35meval\u001b[0m\n    return _eval(expr, inplace=inplace, **kwargs)\n",
      "  File \u001b[0;32m\"C:\\Users\\aaron\\anaconda3\\envs\\udacity\\lib\\site-packages\\pandas\\core\\computation\\eval.py\"\u001b[0m, line \u001b[0;32m332\u001b[0m, in \u001b[0;35meval\u001b[0m\n    parsed_expr = Expr(expr, engine=engine, parser=parser, env=env)\n",
      "  File \u001b[0;32m\"C:\\Users\\aaron\\anaconda3\\envs\\udacity\\lib\\site-packages\\pandas\\core\\computation\\expr.py\"\u001b[0m, line \u001b[0;32m764\u001b[0m, in \u001b[0;35m__init__\u001b[0m\n    self.terms = self.parse()\n",
      "  File \u001b[0;32m\"C:\\Users\\aaron\\anaconda3\\envs\\udacity\\lib\\site-packages\\pandas\\core\\computation\\expr.py\"\u001b[0m, line \u001b[0;32m781\u001b[0m, in \u001b[0;35mparse\u001b[0m\n    return self._visitor.visit(self.expr)\n",
      "  File \u001b[0;32m\"C:\\Users\\aaron\\anaconda3\\envs\\udacity\\lib\\site-packages\\pandas\\core\\computation\\expr.py\"\u001b[0m, line \u001b[0;32m371\u001b[0m, in \u001b[0;35mvisit\u001b[0m\n    raise e\n",
      "  File \u001b[0;32m\"C:\\Users\\aaron\\anaconda3\\envs\\udacity\\lib\\site-packages\\pandas\\core\\computation\\expr.py\"\u001b[0m, line \u001b[0;32m367\u001b[0m, in \u001b[0;35mvisit\u001b[0m\n    node = ast.fix_missing_locations(ast.parse(clean))\n",
      "\u001b[1;36m  File \u001b[1;32m\"C:\\Users\\aaron\\anaconda3\\envs\\udacity\\lib\\ast.py\"\u001b[1;36m, line \u001b[1;32m35\u001b[1;36m, in \u001b[1;35mparse\u001b[1;36m\u001b[0m\n\u001b[1;33m    return compile(source, filename, mode, PyCF_ONLY_AST)\u001b[0m\n",
      "\u001b[1;36m  File \u001b[1;32m\"<unknown>\"\u001b[1;36m, line \u001b[1;32m1\u001b[0m\n\u001b[1;33m    date ==12 /0 7 /2020\u001b[0m\n\u001b[1;37m                 ^\u001b[0m\n\u001b[1;31mSyntaxError\u001b[0m\u001b[1;31m:\u001b[0m invalid syntax\n"
     ]
    }
   ],
   "source": [
    "transactionsDF.query(\"date == 12/07/2020\")"
   ]
  },
  {
   "cell_type": "code",
   "execution_count": 108,
   "metadata": {},
   "outputs": [
    {
     "name": "stdout",
     "output_type": "stream",
     "text": [
      "date,credit,debit,category,notes,account_no                                 Search which column: category\n",
      "Enter what you're searching for: food\n",
      "Search phrase: category=='food'\n",
      "\n",
      "\n",
      "None\n"
     ]
    }
   ],
   "source": [
    "aaronacct.search_for()"
   ]
  },
  {
   "cell_type": "code",
   "execution_count": 96,
   "metadata": {},
   "outputs": [
    {
     "data": {
      "text/html": [
       "<div>\n",
       "<style scoped>\n",
       "    .dataframe tbody tr th:only-of-type {\n",
       "        vertical-align: middle;\n",
       "    }\n",
       "\n",
       "    .dataframe tbody tr th {\n",
       "        vertical-align: top;\n",
       "    }\n",
       "\n",
       "    .dataframe thead th {\n",
       "        text-align: right;\n",
       "    }\n",
       "</style>\n",
       "<table border=\"1\" class=\"dataframe\">\n",
       "  <thead>\n",
       "    <tr style=\"text-align: right;\">\n",
       "      <th></th>\n",
       "      <th>date</th>\n",
       "      <th>credit</th>\n",
       "      <th>debit</th>\n",
       "      <th>category</th>\n",
       "      <th>notes</th>\n",
       "      <th>account_type</th>\n",
       "      <th>account_no</th>\n",
       "    </tr>\n",
       "  </thead>\n",
       "  <tbody>\n",
       "    <tr>\n",
       "      <th>0</th>\n",
       "      <td>2020-12-01</td>\n",
       "      <td>NaN</td>\n",
       "      <td>100.0</td>\n",
       "      <td>food</td>\n",
       "      <td>groceries</td>\n",
       "      <td>checking</td>\n",
       "      <td>7149</td>\n",
       "    </tr>\n",
       "    <tr>\n",
       "      <th>1</th>\n",
       "      <td>2020-12-04</td>\n",
       "      <td>NaN</td>\n",
       "      <td>55.0</td>\n",
       "      <td>tech</td>\n",
       "      <td>charge cable for garmin</td>\n",
       "      <td>checking</td>\n",
       "      <td>7149</td>\n",
       "    </tr>\n",
       "    <tr>\n",
       "      <th>2</th>\n",
       "      <td>2020-12-05</td>\n",
       "      <td>NaN</td>\n",
       "      <td>11.0</td>\n",
       "      <td>food</td>\n",
       "      <td>snacks</td>\n",
       "      <td>checking</td>\n",
       "      <td>7149</td>\n",
       "    </tr>\n",
       "    <tr>\n",
       "      <th>3</th>\n",
       "      <td>2020-12-07</td>\n",
       "      <td>NaN</td>\n",
       "      <td>200.0</td>\n",
       "      <td>entertainment</td>\n",
       "      <td>etc</td>\n",
       "      <td>checking</td>\n",
       "      <td>7149</td>\n",
       "    </tr>\n",
       "    <tr>\n",
       "      <th>4</th>\n",
       "      <td>2020-12-07</td>\n",
       "      <td>NaN</td>\n",
       "      <td>110.0</td>\n",
       "      <td>food</td>\n",
       "      <td>ordered takeout</td>\n",
       "      <td>checking</td>\n",
       "      <td>7149</td>\n",
       "    </tr>\n",
       "    <tr>\n",
       "      <th>5</th>\n",
       "      <td>2020-12-07</td>\n",
       "      <td>500.0</td>\n",
       "      <td>NaN</td>\n",
       "      <td>deposit</td>\n",
       "      <td>from 7913</td>\n",
       "      <td>checking</td>\n",
       "      <td>7149</td>\n",
       "    </tr>\n",
       "    <tr>\n",
       "      <th>6</th>\n",
       "      <td>2020-12-07</td>\n",
       "      <td>NaN</td>\n",
       "      <td>500.0</td>\n",
       "      <td>transfer</td>\n",
       "      <td>to 7149</td>\n",
       "      <td>checking</td>\n",
       "      <td>7913</td>\n",
       "    </tr>\n",
       "    <tr>\n",
       "      <th>7</th>\n",
       "      <td>2020-12-08</td>\n",
       "      <td>NaN</td>\n",
       "      <td>100.0</td>\n",
       "      <td>savings</td>\n",
       "      <td>save</td>\n",
       "      <td>checking</td>\n",
       "      <td>7149</td>\n",
       "    </tr>\n",
       "    <tr>\n",
       "      <th>8</th>\n",
       "      <td>2020-12-08</td>\n",
       "      <td>100.0</td>\n",
       "      <td>NaN</td>\n",
       "      <td>savings</td>\n",
       "      <td>save</td>\n",
       "      <td>savings</td>\n",
       "      <td>2167</td>\n",
       "    </tr>\n",
       "    <tr>\n",
       "      <th>9</th>\n",
       "      <td>2020-12-02</td>\n",
       "      <td>20000.0</td>\n",
       "      <td>NaN</td>\n",
       "      <td>salary</td>\n",
       "      <td>paycheck</td>\n",
       "      <td>checking</td>\n",
       "      <td>7913</td>\n",
       "    </tr>\n",
       "  </tbody>\n",
       "</table>\n",
       "</div>"
      ],
      "text/plain": [
       "        date   credit  debit       category                    notes  \\\n",
       "0 2020-12-01      NaN  100.0           food                groceries   \n",
       "1 2020-12-04      NaN   55.0           tech  charge cable for garmin   \n",
       "2 2020-12-05      NaN   11.0           food                   snacks   \n",
       "3 2020-12-07      NaN  200.0  entertainment                      etc   \n",
       "4 2020-12-07      NaN  110.0           food          ordered takeout   \n",
       "5 2020-12-07    500.0    NaN        deposit                from 7913   \n",
       "6 2020-12-07      NaN  500.0       transfer                  to 7149   \n",
       "7 2020-12-08      NaN  100.0        savings                     save   \n",
       "8 2020-12-08    100.0    NaN        savings                     save   \n",
       "9 2020-12-02  20000.0    NaN         salary                 paycheck   \n",
       "\n",
       "  account_type  account_no  \n",
       "0     checking        7149  \n",
       "1     checking        7149  \n",
       "2     checking        7149  \n",
       "3     checking        7149  \n",
       "4     checking        7149  \n",
       "5     checking        7149  \n",
       "6     checking        7913  \n",
       "7     checking        7149  \n",
       "8      savings        2167  \n",
       "9     checking        7913  "
      ]
     },
     "execution_count": 96,
     "metadata": {},
     "output_type": "execute_result"
    }
   ],
   "source": [
    "aaronacct.transactionsDF"
   ]
  },
  {
   "cell_type": "code",
   "execution_count": 60,
   "metadata": {},
   "outputs": [
    {
     "name": "stdout",
     "output_type": "stream",
     "text": [
      "Enter transaction date: 1/1/21\n",
      "Enter transaction credit: \n",
      "Enter transaction debit: 140\n",
      "Enter transaction category: food\n",
      "Enter transaction notes: grocery\n",
      "Enter transaction account no: 7149\n"
     ]
    }
   ],
   "source": [
    "aaronacct.transaction(7149)"
   ]
  },
  {
   "cell_type": "code",
   "execution_count": 61,
   "metadata": {},
   "outputs": [
    {
     "data": {
      "text/html": [
       "<div>\n",
       "<style scoped>\n",
       "    .dataframe tbody tr th:only-of-type {\n",
       "        vertical-align: middle;\n",
       "    }\n",
       "\n",
       "    .dataframe tbody tr th {\n",
       "        vertical-align: top;\n",
       "    }\n",
       "\n",
       "    .dataframe thead th {\n",
       "        text-align: right;\n",
       "    }\n",
       "</style>\n",
       "<table border=\"1\" class=\"dataframe\">\n",
       "  <thead>\n",
       "    <tr style=\"text-align: right;\">\n",
       "      <th></th>\n",
       "      <th>date</th>\n",
       "      <th>credit</th>\n",
       "      <th>debit</th>\n",
       "      <th>category</th>\n",
       "      <th>notes</th>\n",
       "      <th>account_type</th>\n",
       "      <th>account_no</th>\n",
       "    </tr>\n",
       "  </thead>\n",
       "  <tbody>\n",
       "    <tr>\n",
       "      <th>0</th>\n",
       "      <td>1/1/21</td>\n",
       "      <td></td>\n",
       "      <td>140</td>\n",
       "      <td>food</td>\n",
       "      <td>grocery</td>\n",
       "      <td>checking</td>\n",
       "      <td>7149</td>\n",
       "    </tr>\n",
       "    <tr>\n",
       "      <th>1</th>\n",
       "      <td>1/1/21</td>\n",
       "      <td></td>\n",
       "      <td>140</td>\n",
       "      <td>food</td>\n",
       "      <td>grocery</td>\n",
       "      <td>checking</td>\n",
       "      <td>7149</td>\n",
       "    </tr>\n",
       "    <tr>\n",
       "      <th>2</th>\n",
       "      <td>1/1/21</td>\n",
       "      <td></td>\n",
       "      <td>140</td>\n",
       "      <td>food</td>\n",
       "      <td>grocery</td>\n",
       "      <td>checking</td>\n",
       "      <td>7149</td>\n",
       "    </tr>\n",
       "    <tr>\n",
       "      <th>3</th>\n",
       "      <td>1/1/21</td>\n",
       "      <td></td>\n",
       "      <td>140</td>\n",
       "      <td>food</td>\n",
       "      <td>grocery</td>\n",
       "      <td>checking</td>\n",
       "      <td>7149</td>\n",
       "    </tr>\n",
       "    <tr>\n",
       "      <th>4</th>\n",
       "      <td>1/1/21</td>\n",
       "      <td></td>\n",
       "      <td>140</td>\n",
       "      <td>food</td>\n",
       "      <td>grocery</td>\n",
       "      <td>checking</td>\n",
       "      <td>7149</td>\n",
       "    </tr>\n",
       "    <tr>\n",
       "      <th>5</th>\n",
       "      <td>1/1/21</td>\n",
       "      <td></td>\n",
       "      <td>140</td>\n",
       "      <td>food</td>\n",
       "      <td>grocery</td>\n",
       "      <td>checking</td>\n",
       "      <td>7149</td>\n",
       "    </tr>\n",
       "    <tr>\n",
       "      <th>6</th>\n",
       "      <td>1/1/21</td>\n",
       "      <td></td>\n",
       "      <td>140</td>\n",
       "      <td>food</td>\n",
       "      <td>grocery</td>\n",
       "      <td>checking</td>\n",
       "      <td>7149</td>\n",
       "    </tr>\n",
       "    <tr>\n",
       "      <th>7</th>\n",
       "      <td>1/1/21</td>\n",
       "      <td></td>\n",
       "      <td>140</td>\n",
       "      <td>food</td>\n",
       "      <td>grocery</td>\n",
       "      <td>checking</td>\n",
       "      <td>7149</td>\n",
       "    </tr>\n",
       "    <tr>\n",
       "      <th>8</th>\n",
       "      <td>1/1/21</td>\n",
       "      <td></td>\n",
       "      <td>140</td>\n",
       "      <td>food</td>\n",
       "      <td>grocery</td>\n",
       "      <td>savings</td>\n",
       "      <td>7149</td>\n",
       "    </tr>\n",
       "    <tr>\n",
       "      <th>9</th>\n",
       "      <td>1/1/21</td>\n",
       "      <td></td>\n",
       "      <td>140</td>\n",
       "      <td>food</td>\n",
       "      <td>grocery</td>\n",
       "      <td>checking</td>\n",
       "      <td>7149</td>\n",
       "    </tr>\n",
       "  </tbody>\n",
       "</table>\n",
       "</div>"
      ],
      "text/plain": [
       "     date credit debit category    notes account_type account_no\n",
       "0  1/1/21          140     food  grocery     checking       7149\n",
       "1  1/1/21          140     food  grocery     checking       7149\n",
       "2  1/1/21          140     food  grocery     checking       7149\n",
       "3  1/1/21          140     food  grocery     checking       7149\n",
       "4  1/1/21          140     food  grocery     checking       7149\n",
       "5  1/1/21          140     food  grocery     checking       7149\n",
       "6  1/1/21          140     food  grocery     checking       7149\n",
       "7  1/1/21          140     food  grocery     checking       7149\n",
       "8  1/1/21          140     food  grocery      savings       7149\n",
       "9  1/1/21          140     food  grocery     checking       7149"
      ]
     },
     "execution_count": 61,
     "metadata": {},
     "output_type": "execute_result"
    }
   ],
   "source": [
    "aaronacct.transactionsDF"
   ]
  },
  {
   "cell_type": "code",
   "execution_count": null,
   "metadata": {},
   "outputs": [],
   "source": []
  },
  {
   "cell_type": "code",
   "execution_count": null,
   "metadata": {},
   "outputs": [],
   "source": []
  },
  {
   "cell_type": "code",
   "execution_count": 40,
   "metadata": {},
   "outputs": [
    {
     "name": "stdout",
     "output_type": "stream",
     "text": [
      "<class 'pandas.core.frame.DataFrame'>\n",
      "RangeIndex: 10 entries, 0 to 9\n",
      "Data columns (total 7 columns):\n",
      " #   Column        Non-Null Count  Dtype         \n",
      "---  ------        --------------  -----         \n",
      " 0   date          10 non-null     datetime64[ns]\n",
      " 1   credit        3 non-null      float64       \n",
      " 2   debit         7 non-null      float64       \n",
      " 3   category      10 non-null     object        \n",
      " 4   notes         10 non-null     object        \n",
      " 5   account_type  10 non-null     object        \n",
      " 6   account_no    10 non-null     int64         \n",
      "dtypes: datetime64[ns](1), float64(2), int64(1), object(3)\n",
      "memory usage: 688.0+ bytes\n"
     ]
    }
   ],
   "source": [
    "aaronacct.transactionsDF.info()"
   ]
  },
  {
   "cell_type": "code",
   "execution_count": 95,
   "metadata": {},
   "outputs": [],
   "source": [
    "aaron = Budget()"
   ]
  },
  {
   "cell_type": "code",
   "execution_count": 96,
   "metadata": {},
   "outputs": [
    {
     "data": {
      "text/plain": [
       "{'food': 300.0,\n",
       " 'clothing': 75.0,\n",
       " 'entertainment': 125.0,\n",
       " 'health': 100.0,\n",
       " 'housing': 500.0,\n",
       " 'auto': 250.0}"
      ]
     },
     "execution_count": 96,
     "metadata": {},
     "output_type": "execute_result"
    }
   ],
   "source": [
    "aaron.expense_budget"
   ]
  },
  {
   "cell_type": "code",
   "execution_count": 47,
   "metadata": {},
   "outputs": [],
   "source": [
    "aaron.set_category_limit('clothing',100.00)"
   ]
  },
  {
   "cell_type": "code",
   "execution_count": 48,
   "metadata": {},
   "outputs": [],
   "source": [
    "aaron.set_category_limit('entertainment',200.00)"
   ]
  },
  {
   "cell_type": "code",
   "execution_count": 49,
   "metadata": {},
   "outputs": [],
   "source": [
    "aaron.set_category_limit('auto',300.00)"
   ]
  },
  {
   "cell_type": "code",
   "execution_count": 50,
   "metadata": {},
   "outputs": [],
   "source": [
    "aaron.set_category_limit('health',50.00)"
   ]
  },
  {
   "cell_type": "code",
   "execution_count": 85,
   "metadata": {},
   "outputs": [
    {
     "name": "stdout",
     "output_type": "stream",
     "text": [
      "Expense Budget Percentages\n",
      "\n",
      "Total Expenses: 1350.0\n",
      "food:  0.22\n",
      "clothing:  0.06\n",
      "entertainment:  0.09\n",
      "health:  0.07\n",
      "housing:  0.37\n",
      "auto:  0.19\n"
     ]
    }
   ],
   "source": [
    "aaron.see_category_proportions()"
   ]
  },
  {
   "cell_type": "code",
   "execution_count": 97,
   "metadata": {},
   "outputs": [
    {
     "name": "stdout",
     "output_type": "stream",
     "text": [
      "Category Total: 500.0\n"
     ]
    }
   ],
   "source": [
    "aaron.deposit_funds('food',200.00)"
   ]
  },
  {
   "cell_type": "code",
   "execution_count": 98,
   "metadata": {},
   "outputs": [
    {
     "name": "stdout",
     "output_type": "stream",
     "text": [
      "Category Total: 50.0\n"
     ]
    }
   ],
   "source": [
    "aaron.withdraw_funds('clothing',25.0)"
   ]
  },
  {
   "cell_type": "code",
   "execution_count": null,
   "metadata": {},
   "outputs": [],
   "source": []
  },
  {
   "cell_type": "code",
   "execution_count": null,
   "metadata": {},
   "outputs": [],
   "source": []
  },
  {
   "cell_type": "code",
   "execution_count": 40,
   "metadata": {},
   "outputs": [
    {
     "data": {
      "text/plain": [
       "{'food': 150.0,\n",
       " 'clothing': 0,\n",
       " 'entertainment': 0,\n",
       " 'health': 0,\n",
       " 'housing': 0,\n",
       " 'auto': 0,\n",
       " 'income': 0}"
      ]
     },
     "execution_count": 40,
     "metadata": {},
     "output_type": "execute_result"
    }
   ],
   "source": [
    "ll"
   ]
  },
  {
   "cell_type": "code",
   "execution_count": 10,
   "metadata": {},
   "outputs": [],
   "source": [
    "dict = {'food':100,'clothes':50}"
   ]
  },
  {
   "cell_type": "code",
   "execution_count": 11,
   "metadata": {},
   "outputs": [
    {
     "data": {
      "text/plain": [
       "{'food': 100, 'clothes': 50}"
      ]
     },
     "execution_count": 11,
     "metadata": {},
     "output_type": "execute_result"
    }
   ],
   "source": [
    "dict"
   ]
  },
  {
   "cell_type": "code",
   "execution_count": 12,
   "metadata": {},
   "outputs": [
    {
     "ename": "SyntaxError",
     "evalue": "invalid syntax (<ipython-input-12-642670496a14>, line 1)",
     "output_type": "error",
     "traceback": [
      "\u001b[1;36m  File \u001b[1;32m\"<ipython-input-12-642670496a14>\"\u001b[1;36m, line \u001b[1;32m1\u001b[0m\n\u001b[1;33m    dict.append('housing':1000)\u001b[0m\n\u001b[1;37m                         ^\u001b[0m\n\u001b[1;31mSyntaxError\u001b[0m\u001b[1;31m:\u001b[0m invalid syntax\n"
     ]
    }
   ],
   "source": [
    "dict.append('housing':1000)"
   ]
  },
  {
   "cell_type": "code",
   "execution_count": 13,
   "metadata": {},
   "outputs": [],
   "source": [
    "dict['housing'] = 1000"
   ]
  },
  {
   "cell_type": "code",
   "execution_count": 14,
   "metadata": {},
   "outputs": [
    {
     "data": {
      "text/plain": [
       "{'food': 100, 'clothes': 50, 'housing': 1000}"
      ]
     },
     "execution_count": 14,
     "metadata": {},
     "output_type": "execute_result"
    }
   ],
   "source": [
    "dict"
   ]
  },
  {
   "cell_type": "code",
   "execution_count": null,
   "metadata": {},
   "outputs": [],
   "source": []
  },
  {
   "cell_type": "code",
   "execution_count": 37,
   "metadata": {},
   "outputs": [],
   "source": [
    "ll = {'food': 150.0,\n",
    " 'clothing': 0,\n",
    " 'entertainment': 0,\n",
    " 'health': 0,\n",
    " 'housing': 0,\n",
    " 'auto': 0,\n",
    " 'income': 0}"
   ]
  },
  {
   "cell_type": "code",
   "execution_count": 41,
   "metadata": {},
   "outputs": [
    {
     "name": "stdout",
     "output_type": "stream",
     "text": [
      "150.0\n"
     ]
    }
   ],
   "source": [
    "total = 0\n",
    "for item in ll:\n",
    "    total += ll[item]\n",
    "\n",
    "print(total)"
   ]
  }
 ],
 "metadata": {
  "kernelspec": {
   "display_name": "Python 3",
   "language": "python",
   "name": "python3"
  },
  "language_info": {
   "codemirror_mode": {
    "name": "ipython",
    "version": 3
   },
   "file_extension": ".py",
   "mimetype": "text/x-python",
   "name": "python",
   "nbconvert_exporter": "python",
   "pygments_lexer": "ipython3",
   "version": "3.6.10"
  }
 },
 "nbformat": 4,
 "nbformat_minor": 4
}
